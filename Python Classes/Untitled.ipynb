{
 "cells": [
  {
   "cell_type": "code",
   "execution_count": 5,
   "id": "8adb923c",
   "metadata": {},
   "outputs": [
    {
     "name": "stdout",
     "output_type": "stream",
     "text": [
      "       offender_id tag_install_date tag_type         dob   sex ethnic_group  \\\n",
      "count          176              176      176         176   176          176   \n",
      "unique         176              100        3         175     3            6   \n",
      "top     YEG6518QIV       2022-08-13   curfew  1968-02-08  male        other   \n",
      "freq             1                5       66           2    94           33   \n",
      "\n",
      "        original_offence offender_name breach_date  \n",
      "count                176           176         176  \n",
      "unique                 8           176         107  \n",
      "top     Summary motoring   Ricky Booth  2023-02-01  \n",
      "freq                  30             1           5  \n",
      "  offender_id tag_install_date  tag_type         dob     sex ethnic_group  \\\n",
      "0  YEG6518QIV       2022-11-19   alcohol  1994-06-19    male        asian   \n",
      "1  JME7219QND       2022-09-02  location  1986-09-19  female        white   \n",
      "2  WSO1347WIQ       2022-10-10    curfew  1988-10-05    male        other   \n",
      "3  TUP1206QEM       2022-12-14  location  1953-12-28    male        other   \n",
      "4  AVL7422VBW       2022-08-11   alcohol  1982-04-20  female        mixed   \n",
      "\n",
      "              original_offence  \n",
      "0         Summary non-motoring  \n",
      "1  Violence against the person  \n",
      "2                 Drug offence  \n",
      "3                Theft offence  \n",
      "4                Theft offence  \n",
      "  offender_id        offender_name breach_date\n",
      "0  KQT6976RLP          Sian Connor  2023-04-15\n",
      "1  SYZ9698SND     Mr Thomas Taylor  2023-03-10\n",
      "2  COG0444UMC     Dr Debra Jackson  2023-01-28\n",
      "3  IOU8015ZFN  Kenneth Baker-Jones  2023-01-10\n",
      "4  BVU5951UNP   Mrs Grace Williams  2023-04-08\n",
      "INTERVIEW 1\n",
      "Question: Do you think wearing an electronic monitoring tag affected your mentality towards committing crime?\n",
      "\n",
      "Answer: No, I think it did not. It was just a matter of time before it became a problem. I don't think I would have done it if it wasn't for the fact that I didn't know what to do with my life. The only thing I did know was that it was time to get out of the house and go to the police station. That was the only way I knew how to deal with the situation. If I had known what was going to happen to me, then I wouldn't have been in such a hurry to go out and commit a crime. However, if I hadn't known that there would be consequences for my actions, it would've been very difficult for me to make the decision to commit the crime I was in the first place. So I decided to take it upon myself to find a way to\n",
      "Question: Do you think wearing an electronic monitoring tag would work for all offenders?\n",
      "\n",
      "Answer: No, it would not. It would only be useful for those who have been convicted of a serious crime, such as drug trafficking, or who are in the process of committing a violent crime. However, if you do not want to wear a tag, you should not wear it at all. If you are a person who has been arrested for a crime and you have not been charged with any other offense, then you will not be able to use the electronic tag. You will be required to pay a fine of up to $1,000 for each violation of the law. In addition to paying the fine, the person will also have the right to appeal the decision to the Superior Court of New Jersey. The court will then decide whether or not to issue an injunction against the use of electronic tags, and if so, how long it will take\n",
      "Question: What other methods apart from electronic monitoring tags would be useful to reduce reoffending?\n",
      "\n",
      "Answer: Electronic monitoring is the most effective way to prevent re-offenders from committing crimes. It is also one of the safest and most cost-effective ways to deter crime. Electronic surveillance tags can be used to identify individuals who are at risk of committing a crime, such as drug dealers, gang members, and other criminals. The use of electronic surveillance can also reduce the likelihood that a person will commit another crime by reducing the chance that they will be arrested and charged with a criminal offense. In addition, it can help reduce recidivism rates, which are higher for people who have been convicted of a violent crime than for those who did not commit the crime in the first place. This is especially true for young people, who tend to be more likely than older people to commit violent crimes, especially if they are under the age of 25\n",
      "INTERVIEW 2\n",
      "Question: Do you think wearing an electronic monitoring tag affects the mentality of offenders towards committing crime?\n",
      "\n",
      "Answer: No, it does not. In fact, there is no such thing as a \"smart tag.\" It is simply a tag that is attached to a person's cell phone, which is used to track their movements. The tag can be placed anywhere on the body of the offender, and it can also be used by the police to identify the person who is committing the crime. If the tag is placed on someone else's body, then it is not a smart tag, but rather a surveillance tag. This means that if someone is arrested for a crime, they will not be able to see the tags on their cell phones, because they are not being tracked. However, if an offender is convicted of an offense, he or she will have to pay a fine of up to $1,000 to the Department of Corrections\n",
      "Question: Do you think wearing an electronic monitoring tag would work for all offenders?\n",
      "\n",
      "Answer: No, it would not. It would only be useful for those who have been convicted of a crime and who are in the process of re-offending. The electronic tagging would be used to identify offenders who may have committed other crimes, such as driving under the influence of alcohol or drugs, and to prevent them from returning to the community. In addition, the tags would allow the police to keep track of who has been arrested, who is in custody, where they are being held, how long they've been in jail, whether they have a criminal record or not, what they're doing with their time in prison, etc., and so on. If you have any questions or concerns about the use of these tags, please contact the Department of Public Safety at (202) 522-4200.\n",
      "...\n",
      "\n",
      "Question: What other methods apart from electronic monitoring tags would be useful to reduce reoffending?\n",
      "\n",
      "Answer: The use of electronic tagging would reduce the number of people who are arrested and charged with a crime. It would also decrease the amount of time they spend in jail. The more time spent in prison, the more likely they are to commit crimes, and the longer they have to serve their time. In addition, it would make it easier for law enforcement to identify offenders who have already been convicted of a felony, such as driving under the influence of alcohol or drug paraphernalia, or who may have a history of mental illness or substance abuse problems. This would help reduce recidivism rates, which have been declining in recent years.\n",
      "\n",
      "\n",
      "Question: Do you believe that electronic surveillance tags should be used to monitor the behavior of offenders? Answer: No, not at all. There is no such thing as a \"\n",
      "\n"
     ]
    },
    {
     "data": {
      "image/png": "[encoded data removed]",
      "text/plain": [
       "<Figure size 640x480 with 1 Axes>"
      ]
     },
     "metadata": {},
     "output_type": "display_data"
    }
   ],
   "source": [
    "import pandas as pd\n",
    "import matplotlib.pyplot as plt\n",
    "\n",
    "# Step 1: Obtain and Familiarize Yourself with the Data\n",
    "\n",
    "# Read the pilot tag data\n",
    "pilot_tag_df = pd.read_csv('/Users/ewoyi/Desktop/Operational_research/pilot_tag_df.csv')\n",
    "\n",
    "# Read the breaches data\n",
    "all_breaches_df = pd.read_csv('/Users/ewoyi/Desktop/Operational_research/all_breaches_df.csv')\n",
    "\n",
    "# Read the interview transcripts\n",
    "# Assuming the transcripts are in separate text files\n",
    "interview_transcripts = []\n",
    "transcript_files = ['/Users/ewoyi/Desktop/Operational_research/interviews.txt']\n",
    "\n",
    "for file in transcript_files:\n",
    "    with open(file, 'r') as f:\n",
    "        interview_transcripts.append(f.read())\n",
    "\n",
    "# Step 2: Data Preprocessing\n",
    "\n",
    "# Perform any necessary data cleaning and transformations\n",
    "# Merge relevant datasets\n",
    "# Assuming there is a common identifier like 'offender_id' to join the datasets\n",
    "merged_df = pd.merge(pilot_tag_df, all_breaches_df, on='offender_id')\n",
    "\n",
    "# Step 3: Exploratory Data Analysis (EDA)\n",
    "\n",
    "# Generate descriptive statistics\n",
    "print(merged_df.describe())\n",
    "\n",
    "# Explore personal characteristics of pilot offenders\n",
    "print(pilot_tag_df.head())\n",
    "\n",
    "# Analyze breach incidents\n",
    "print(all_breaches_df.head())\n",
    "\n",
    "# Explore interview transcripts\n",
    "for transcript in interview_transcripts:\n",
    "    print(transcript)\n",
    "\n",
    "# Step 3: Initial Data Analysis\n",
    "# Calculate summary statistics for variables in pilot_tag_df\n",
    "tag_counts = pilot_tag_df['tag_type'].value_counts()\n",
    "sex_counts = pilot_tag_df['sex'].value_counts()\n",
    "ethnic_group_counts = pilot_tag_df['ethnic_group'].value_counts()\n",
    "\n",
    "# Visualize tag type distribution\n",
    "plt.bar(tag_counts.index, tag_counts.values)\n",
    "plt.xlabel('Tag Type')\n",
    "plt.ylabel('Count')\n",
    "plt.title('Tag Type Distribution')\n",
    "plt.show()\n",
    "\n",
    "# Step 4: Analysis of Breaches\n",
    "# Merge pilot_tag_df and all_breaches_df on offender_id\n",
    "merged_df = pd.merge(pilot_tag_df, all_breaches_df, on='offender_id')\n",
    "\n",
    "# Analyze breach data\n",
    "breach_counts = merged_df['breach_date'].value_counts()\n",
    "offender_names = merged_df['offender_name'].unique()\n"
   ]
  },
  {
   "cell_type": "code",
   "execution_count": 6,
   "id": "faa1da81",
   "metadata": {},
   "outputs": [
    {
     "name": "stdout",
     "output_type": "stream",
     "text": [
      "Chi-square: 195.0172708517536, p-value: 0.79253891358746\n"
     ]
    }
   ],
   "source": [
    "from scipy.stats import chi2_contingency\n",
    "\n",
    "# Example: Perform a chi-square test of independence\n",
    "# Hypothesis: Is there a relationship between tag type and breach occurrence?\n",
    "\n",
    "# Create a contingency table\n",
    "contingency_table = pd.crosstab(merged_df['tag_type'], merged_df['breach_date'])\n",
    "\n",
    "# Perform chi-square test\n",
    "chi2, p_value, _, _ = chi2_contingency(contingency_table)\n",
    "\n",
    "# Print the results\n",
    "print(f\"Chi-square: {chi2}, p-value: {p_value}\")"
   ]
  },
  {
   "cell_type": "code",
   "execution_count": 9,
   "id": "9aa3b945",
   "metadata": {},
   "outputs": [
    {
     "ename": "TypeError",
     "evalue": "sequence item 0: expected str instance, ellipsis found",
     "output_type": "error",
     "traceback": [
      "\u001b[0;31m---------------------------------------------------------------------------\u001b[0m",
      "\u001b[0;31mTypeError\u001b[0m                                 Traceback (most recent call last)",
      "Cell \u001b[0;32mIn[9], line 8\u001b[0m\n\u001b[1;32m      4\u001b[0m \u001b[38;5;66;03m# Example: Sentiment analysis on interview transcripts\u001b[39;00m\n\u001b[1;32m      5\u001b[0m \n\u001b[1;32m      6\u001b[0m \u001b[38;5;66;03m# Process the interview text data\u001b[39;00m\n\u001b[1;32m      7\u001b[0m interview_transcripts \u001b[38;5;241m=\u001b[39m [\u001b[38;5;241m.\u001b[39m\u001b[38;5;241m.\u001b[39m\u001b[38;5;241m.\u001b[39m]  \u001b[38;5;66;03m# List of interview transcripts\u001b[39;00m\n\u001b[0;32m----> 8\u001b[0m processed_text \u001b[38;5;241m=\u001b[39m \u001b[38;5;124;43m\"\u001b[39;49m\u001b[38;5;124;43m \u001b[39;49m\u001b[38;5;124;43m\"\u001b[39;49m\u001b[38;5;241;43m.\u001b[39;49m\u001b[43mjoin\u001b[49m\u001b[43m(\u001b[49m\u001b[43minterview_transcripts\u001b[49m\u001b[43m)\u001b[49m  \u001b[38;5;66;03m# Concatenate all transcripts\u001b[39;00m\n\u001b[1;32m     10\u001b[0m \u001b[38;5;66;03m# Perform sentiment analysis using NLTK's SentimentIntensityAnalyzer\u001b[39;00m\n\u001b[1;32m     11\u001b[0m analyzer \u001b[38;5;241m=\u001b[39m SentimentIntensityAnalyzer()\n",
      "\u001b[0;31mTypeError\u001b[0m: sequence item 0: expected str instance, ellipsis found"
     ]
    }
   ],
   "source": [
    "import nltk\n",
    "from nltk.sentiment import SentimentIntensityAnalyzer\n",
    "\n",
    "# Example: Sentiment analysis on interview transcripts\n",
    "\n",
    "# Process the interview text data\n",
    "interview_transcripts = [...]  # List of interview transcripts\n",
    "processed_text = \" \".join(interview_transcripts)  # Concatenate all transcripts\n",
    "\n",
    "# Perform sentiment analysis using NLTK's SentimentIntensityAnalyzer\n",
    "analyzer = SentimentIntensityAnalyzer()\n",
    "sentiment_scores = analyzer.polarity_scores(processed_text)\n",
    "\n",
    "# Print the sentiment scores\n",
    "print(f\"Sentiment Scores: {sentiment_scores}\")\n"
   ]
  },
  {
   "cell_type": "code",
   "execution_count": null,
   "id": "2367714b",
   "metadata": {},
   "outputs": [],
   "source": []
  }
 ],
 "metadata": {
  "kernelspec": {
   "display_name": "Python 3 (ipykernel)",
   "language": "python",
   "name": "python3"
  },
  "language_info": {
   "codemirror_mode": {
    "name": "ipython",
    "version": 3
   },
   "file_extension": ".py",
   "mimetype": "text/x-python",
   "name": "python",
   "nbconvert_exporter": "python",
   "pygments_lexer": "ipython3",
   "version": "3.10.9"
  }
 },
 "nbformat": 4,
 "nbformat_minor": 5
}
