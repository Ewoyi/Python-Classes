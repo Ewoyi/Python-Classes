{
 "cells": [
  {
   "cell_type": "code",
   "execution_count": 3,
   "id": "d7235af6",
   "metadata": {},
   "outputs": [
    {
     "name": "stdout",
     "output_type": "stream",
     "text": [
      "hello world!\n"
     ]
    }
   ],
   "source": [
    "print(\"hello world!\")"
   ]
  },
  {
   "cell_type": "code",
   "execution_count": 4,
   "id": "8143e84f",
   "metadata": {},
   "outputs": [
    {
     "name": "stdout",
     "output_type": "stream",
     "text": [
      "H\n",
      "e\n",
      "l\n",
      "l\n",
      "o\n",
      " \n",
      "w\n",
      "o\n",
      "r\n",
      "l\n",
      "d\n",
      "!\n"
     ]
    }
   ],
   "source": [
    "for letter in \"Hello world!\":\n",
    "    print(letter)"
   ]
  },
  {
   "cell_type": "markdown",
   "id": "f65703e0",
   "metadata": {},
   "source": [
    "i can write **documentation** in https://daringfireball.net/markdown\n",
    "A formula: $\\sqrt(1+x)$"
   ]
  },
  {
   "cell_type": "code",
   "execution_count": 4,
   "id": "fb7d5a09",
   "metadata": {},
   "outputs": [],
   "source": [
    "combinations = []\n",
    "\n",
    "for count_100 in range(1+1):\n",
    "    for count_50 in range(2+1):\n",
    "        for count_25 in range(4+1):\n",
    "            for count_10 in range(10+1):\n",
    "                for count_5 in range(20+1):\n",
    "                    for count_1 in range(100+1):\n",
    "                        if 100*count_100 + 50*count_50 + 25*count_25 + 10*count_10 + 5*count_5 + 1*count_1 == 100:\n",
    "                            combinations.append([count_100, count_50, count_25, count_10, count_1])"
   ]
  },
  {
   "cell_type": "code",
   "execution_count": 5,
   "id": "bbab2a34",
   "metadata": {},
   "outputs": [
    {
     "data": {
      "text/plain": [
       "293"
      ]
     },
     "execution_count": 5,
     "metadata": {},
     "output_type": "execute_result"
    }
   ],
   "source": [
    "len(combinations)"
   ]
  },
  {
   "cell_type": "code",
   "execution_count": 7,
   "id": "f155a0b5",
   "metadata": {},
   "outputs": [
    {
     "name": "stdout",
     "output_type": "stream",
     "text": [
      "0\n",
      "1\n",
      "2\n",
      "3\n",
      "4\n"
     ]
    }
   ],
   "source": [
    "for count_25 in range(4+1):\n",
    "    print(count_25)"
   ]
  },
  {
   "cell_type": "code",
   "execution_count": 8,
   "id": "055b604a",
   "metadata": {},
   "outputs": [
    {
     "name": "stdout",
     "output_type": "stream",
     "text": [
      "0\n",
      "25\n",
      "50\n",
      "75\n",
      "100\n"
     ]
    }
   ],
   "source": [
    "for count_25 in range(0, 100+1, 25):\n",
    "    print(count_25)"
   ]
  },
  {
   "cell_type": "code",
   "execution_count": 16,
   "id": "c8173dfa",
   "metadata": {},
   "outputs": [],
   "source": [
    "combinations_amount = []\n",
    "\n",
    "for amount_100 in range(0, 100+1, 100):\n",
    "    for amount_50 in range(0, 100+1, 50):\n",
    "        for amount_25 in range(0, 100+1, 25):\n",
    "            for amount_10 in range(0, 101+1, 10):\n",
    "                for amount_5 in range(0, 100+1,5):\n",
    "                    total_so_far = amount_100 + amount_50 + amount_25 + amount_10 + amount_5\n",
    "                    \n",
    "                    if total_so_far <= 100:\n",
    "                        combinations_amount.append([amount_100, amount_50, amount_25, amount_10, amount_5, 100 - total_so_far])"
   ]
  },
  {
   "cell_type": "code",
   "execution_count": 17,
   "id": "a1a03d66",
   "metadata": {},
   "outputs": [
    {
     "data": {
      "text/plain": [
       "293"
      ]
     },
     "execution_count": 17,
     "metadata": {},
     "output_type": "execute_result"
    }
   ],
   "source": [
    "len(combinations_amount)"
   ]
  },
  {
   "cell_type": "code",
   "execution_count": null,
   "id": "72cb9a52",
   "metadata": {},
   "outputs": [],
   "source": []
  }
 ],
 "metadata": {
  "kernelspec": {
   "display_name": "Python 3 (ipykernel)",
   "language": "python",
   "name": "python3"
  },
  "language_info": {
   "codemirror_mode": {
    "name": "ipython",
    "version": 3
   },
   "file_extension": ".py",
   "mimetype": "text/x-python",
   "name": "python",
   "nbconvert_exporter": "python",
   "pygments_lexer": "ipython3",
   "version": "3.10.9"
  }
 },
 "nbformat": 4,
 "nbformat_minor": 5
}
